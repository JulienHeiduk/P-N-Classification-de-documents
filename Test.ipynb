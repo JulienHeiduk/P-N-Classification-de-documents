{
 "cells": [
  {
   "cell_type": "markdown",
   "id": "734115de-41ce-4e2e-a905-36e4ff665901",
   "metadata": {},
   "source": [
    "# Initilisation"
   ]
  },
  {
   "cell_type": "code",
   "execution_count": null,
   "id": "9c0b6ab4-9f5d-4261-932e-bcc68df54786",
   "metadata": {},
   "outputs": [],
   "source": [
    "import initialisation as init\n",
    "import pandas as pd"
   ]
  },
  {
   "cell_type": "code",
   "execution_count": null,
   "id": "347c3e59-b60c-4f60-8d9d-c56b3bf40d4a",
   "metadata": {},
   "outputs": [],
   "source": [
    "data = init.init_model('./POC IA Classification 2021-10-12 093136 0000.json')\n",
    "df_all = data.get_data()\n",
    "data_cleaned = data.clean_data(df_all)"
   ]
  },
  {
   "cell_type": "code",
   "execution_count": null,
   "id": "3e0b95ac-f215-4f52-87d4-12af84cf8ecf",
   "metadata": {},
   "outputs": [],
   "source": [
    "data.first_model(data_cleaned)"
   ]
  },
  {
   "cell_type": "code",
   "execution_count": null,
   "id": "52c56b45-8d56-4ff6-bcc5-10571f1d4ca4",
   "metadata": {},
   "outputs": [],
   "source": [
    "#!pip3 install river\n",
    "#!pip3 install -U numpy\n",
    "#!pip3 install texthero\n",
    "#!pip3 install -U spacy\n",
    "#!pip3 install nltk"
   ]
  },
  {
   "cell_type": "markdown",
   "id": "270e5265-f05a-4751-b801-c6be639855e7",
   "metadata": {},
   "source": [
    "# Prédiction"
   ]
  },
  {
   "cell_type": "code",
   "execution_count": 1,
   "id": "33b5e3ee-b73f-464f-917c-b87014ba77e7",
   "metadata": {},
   "outputs": [
    {
     "name": "stderr",
     "output_type": "stream",
     "text": [
      "/opt/conda/lib/python3.7/site-packages/spacy/util.py:833: UserWarning: [W095] Model 'en_core_web_sm' (3.1.0) was trained with spaCy v3.1 and may not be 100% compatible with the current version (3.2.1). If you see errors or degraded performance, download a newer compatible model or retrain your custom model with the current spaCy version. For more details and available updates, run: python -m spacy validate\n",
      "  warnings.warn(warn_msg)\n"
     ]
    }
   ],
   "source": [
    "import prediction as pred\n",
    "import pandas as pd"
   ]
  },
  {
   "cell_type": "code",
   "execution_count": 2,
   "id": "47af8c96-e6ec-4805-8efe-de0e6d27ee50",
   "metadata": {},
   "outputs": [],
   "source": [
    "data_topredict = pred.model_predictions('./POC IA Classification 2021-10-12 093136 0000.json')\n",
    "df_all = data_topredict.get_data()\n",
    "data_cleaned = data_topredict.clean_data(df_all)"
   ]
  },
  {
   "cell_type": "code",
   "execution_count": 7,
   "id": "827b4c94-82c1-49a8-a039-42e9921830ca",
   "metadata": {},
   "outputs": [
    {
     "data": {
      "text/plain": [
       "{'pvcp201': 0.0,\n",
       " 'pvcp501': 0.0,\n",
       " 'cp101': 1.0,\n",
       " 'cp104': 0.0,\n",
       " 'pvcp301': 0.0,\n",
       " 'pvcp202': 0.0,\n",
       " 'pvcp204': 0.0,\n",
       " 'cp103': 0.0,\n",
       " 'pvcp203': 0.0,\n",
       " 'CP101': 0.0,\n",
       " 'pvcp601': 0.0,\n",
       " 'cp102': 0.0}"
      ]
     },
     "execution_count": 7,
     "metadata": {},
     "output_type": "execute_result"
    }
   ],
   "source": [
    "data_topredict.predict(data_cleaned['Title+Texte'].iloc[1])"
   ]
  },
  {
   "cell_type": "markdown",
   "id": "df1cb86f-2066-4716-8c53-9c4afaaea9b1",
   "metadata": {},
   "source": [
    "# Update du modèle"
   ]
  },
  {
   "cell_type": "code",
   "execution_count": 1,
   "id": "177fd1c4-19a4-4970-b173-32f97b09ae14",
   "metadata": {},
   "outputs": [
    {
     "name": "stderr",
     "output_type": "stream",
     "text": [
      "/opt/conda/lib/python3.7/site-packages/spacy/util.py:833: UserWarning: [W095] Model 'en_core_web_sm' (3.1.0) was trained with spaCy v3.1 and may not be 100% compatible with the current version (3.2.1). If you see errors or degraded performance, download a newer compatible model or retrain your custom model with the current spaCy version. For more details and available updates, run: python -m spacy validate\n",
      "  warnings.warn(warn_msg)\n"
     ]
    }
   ],
   "source": [
    "import update as updt\n",
    "import pandas as pd"
   ]
  },
  {
   "cell_type": "code",
   "execution_count": 2,
   "id": "4807d799-947c-4afd-8c24-b256cd1de9e7",
   "metadata": {},
   "outputs": [],
   "source": [
    "data = updt.update_model('./POC IA Classification 2021-10-12 093136 0000.json')\n",
    "df_all = data.get_data()\n",
    "data_cleaned = data.clean_data(df_all)"
   ]
  },
  {
   "cell_type": "code",
   "execution_count": 3,
   "id": "98262ccf-aac0-4b56-84ef-900f1880c754",
   "metadata": {},
   "outputs": [],
   "source": [
    "data.new_model(pd.DataFrame(data_cleaned[['Title+Texte','label']].iloc[1]).T)"
   ]
  },
  {
   "cell_type": "code",
   "execution_count": null,
   "id": "6f61bb74-1091-49c4-944a-c8798bc58a3b",
   "metadata": {},
   "outputs": [],
   "source": []
  }
 ],
 "metadata": {
  "kernelspec": {
   "display_name": "Python 3 (ipykernel)",
   "language": "python",
   "name": "python3"
  },
  "language_info": {
   "codemirror_mode": {
    "name": "ipython",
    "version": 3
   },
   "file_extension": ".py",
   "mimetype": "text/x-python",
   "name": "python",
   "nbconvert_exporter": "python",
   "pygments_lexer": "ipython3",
   "version": "3.7.12"
  }
 },
 "nbformat": 4,
 "nbformat_minor": 5
}
